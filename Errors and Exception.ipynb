{
 "cells": [
  {
   "cell_type": "code",
   "execution_count": 5,
   "metadata": {
    "collapsed": false
   },
   "outputs": [
    {
     "name": "stdout",
     "output_type": "stream",
     "text": [
      "There was a type error!\n",
      "Finally this was printed\n"
     ]
    }
   ],
   "source": [
    "try:\n",
    "    2 + 's'\n",
    "except TypeError:\n",
    "    print(\"There was a type error!\")\n",
    "finally:\n",
    "    print('Finally this was printed')"
   ]
  },
  {
   "cell_type": "code",
   "execution_count": 6,
   "metadata": {
    "collapsed": false
   },
   "outputs": [
    {
     "name": "stdout",
     "output_type": "stream",
     "text": [
      "There was a type error!\n",
      "Finally this was printed\n"
     ]
    }
   ],
   "source": [
    "try:\n",
    "    2 + 's'\n",
    "except:\n",
    "    print(\"There was a type error!\")\n",
    "finally:\n",
    "    print('Finally this was printed')"
   ]
  },
  {
   "cell_type": "code",
   "execution_count": 12,
   "metadata": {
    "collapsed": false
   },
   "outputs": [
    {
     "name": "stdout",
     "output_type": "stream",
     "text": [
      "File write was a success\n"
     ]
    }
   ],
   "source": [
    "try:\n",
    "    f = open('testfile1232','w')\n",
    "    f.write('Test write this file')\n",
    "except:\n",
    "    print('Error in writing to the file!')\n",
    "else:\n",
    "    print('File write was a success')"
   ]
  },
  {
   "cell_type": "code",
   "execution_count": 13,
   "metadata": {
    "collapsed": false
   },
   "outputs": [
    {
     "name": "stdout",
     "output_type": "stream",
     "text": [
      "Error in writing to the file!\n"
     ]
    }
   ],
   "source": [
    "try:\n",
    "    f = open('testfile1232','e')\n",
    "    f.write('Test write this file')\n",
    "except:\n",
    "    print('Error in writing to the file!')\n",
    "else:\n",
    "    print('File write was a success')"
   ]
  },
  {
   "cell_type": "code",
   "execution_count": 16,
   "metadata": {
    "collapsed": false
   },
   "outputs": [
    {
     "name": "stdout",
     "output_type": "stream",
     "text": [
      "Always execute finally code blocks!\n"
     ]
    }
   ],
   "source": [
    "try:\n",
    "    f = open('testfile1232','w')\n",
    "    f.write('Test write this')\n",
    "finally:\n",
    "    print(\"Always execute finally code blocks!\")"
   ]
  },
  {
   "cell_type": "code",
   "execution_count": 17,
   "metadata": {
    "collapsed": false
   },
   "outputs": [
    {
     "name": "stdout",
     "output_type": "stream",
     "text": [
      "Always execute finally code blocks!\n"
     ]
    }
   ],
   "source": [
    "try:\n",
    "    f = open('testfile1232','w')\n",
    "    f.write('Test write this')\n",
    "except:\n",
    "    print('There was an error!')\n",
    "finally:\n",
    "    print(\"Always execute finally code blocks!\")"
   ]
  },
  {
   "cell_type": "code",
   "execution_count": 29,
   "metadata": {
    "collapsed": true
   },
   "outputs": [],
   "source": [
    "def askint():\n",
    "    try: \n",
    "        val = int(input('Please enter an integer: '))\n",
    "    except:\n",
    "        print('Looks like you did not enter an integer!')\n",
    "        val = int(input(\"Try again- Please enter an integer: \"))\n",
    "    finally:\n",
    "        print('Finally block executed!')\n",
    "    print(val)    "
   ]
  },
  {
   "cell_type": "code",
   "execution_count": 30,
   "metadata": {
    "collapsed": false
   },
   "outputs": [
    {
     "name": "stdout",
     "output_type": "stream",
     "text": [
      "Please enter an integer: 6\n",
      "Finally block executed!\n",
      "6\n"
     ]
    }
   ],
   "source": [
    "askint()"
   ]
  },
  {
   "cell_type": "code",
   "execution_count": 31,
   "metadata": {
    "collapsed": false
   },
   "outputs": [
    {
     "name": "stdout",
     "output_type": "stream",
     "text": [
      "Please enter an integer: \n",
      "Looks like you did not enter an integer!\n",
      "Try again- Please enter an integer: 2\n",
      "Finally block executed!\n",
      "2\n"
     ]
    }
   ],
   "source": [
    "askint()"
   ]
  },
  {
   "cell_type": "code",
   "execution_count": 32,
   "metadata": {
    "collapsed": true
   },
   "outputs": [],
   "source": [
    "def askint():\n",
    "    \n",
    "    while True:\n",
    "        try:\n",
    "            val = int(input('Please enter an integer: '))\n",
    "            \n",
    "        except:\n",
    "            print(\"Looks like you didn't enter an integer!\")\n",
    "            continue\n",
    "        else:\n",
    "            print('Correct, that is an integer!')\n",
    "        finally:\n",
    "            print('Finally block executed')\n",
    "        print(val)\n",
    "    \n",
    "    \n",
    "    "
   ]
  },
  {
   "cell_type": "code",
   "execution_count": null,
   "metadata": {
    "collapsed": false
   },
   "outputs": [
    {
     "name": "stdout",
     "output_type": "stream",
     "text": [
      "Please enter an integer: e\n",
      "Looks like you didn't enter an integer!\n",
      "Finally block executed\n",
      "Please enter an integer: r\n",
      "Looks like you didn't enter an integer!\n",
      "Finally block executed\n",
      "Please enter an integer: w\n",
      "Looks like you didn't enter an integer!\n",
      "Finally block executed\n",
      "Please enter an integer: t\n",
      "Looks like you didn't enter an integer!\n",
      "Finally block executed\n",
      "Please enter an integer: y\n",
      "Looks like you didn't enter an integer!\n",
      "Finally block executed\n",
      "Please enter an integer: u\n",
      "Looks like you didn't enter an integer!\n",
      "Finally block executed\n",
      "Please enter an integer: v\n",
      "Looks like you didn't enter an integer!\n",
      "Finally block executed\n",
      "Please enter an integer: pfg\n",
      "Looks like you didn't enter an integer!\n",
      "Finally block executed\n",
      "Please enter an integer: 12\n",
      "Correct, that is an integer!\n",
      "Finally block executed\n",
      "12\n"
     ]
    }
   ],
   "source": [
    "askint()"
   ]
  },
  {
   "cell_type": "code",
   "execution_count": null,
   "metadata": {
    "collapsed": true
   },
   "outputs": [],
   "source": []
  }
 ],
 "metadata": {
  "anaconda-cloud": {},
  "kernelspec": {
   "display_name": "Python [Root]",
   "language": "python",
   "name": "Python [Root]"
  },
  "language_info": {
   "codemirror_mode": {
    "name": "ipython",
    "version": 3
   },
   "file_extension": ".py",
   "mimetype": "text/x-python",
   "name": "python",
   "nbconvert_exporter": "python",
   "pygments_lexer": "ipython3",
   "version": "3.5.2"
  }
 },
 "nbformat": 4,
 "nbformat_minor": 0
}
